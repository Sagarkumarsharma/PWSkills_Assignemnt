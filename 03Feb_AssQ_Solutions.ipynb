{
  "nbformat": 4,
  "nbformat_minor": 0,
  "metadata": {
    "colab": {
      "provenance": []
    },
    "kernelspec": {
      "name": "python3",
      "display_name": "Python 3"
    },
    "language_info": {
      "name": "python"
    }
  },
  "cells": [
    {
      "cell_type": "markdown",
      "source": [
        "Q1. Which keyword is used to create a function? Create a function to return a list of odd numbers in the\n",
        "range of 1 to 25."
      ],
      "metadata": {
        "id": "Y-v2lZDEwHJA"
      }
    },
    {
      "cell_type": "code",
      "source": [
        "# we used def keyword to create a function in python\n",
        "\n",
        "def get_odd_numbers():\n",
        "    odd_numbers = []\n",
        "    for num in range(1, 26):\n",
        "        if num % 2 != 0:\n",
        "            odd_numbers.append(num)\n",
        "    return odd_numbers\n",
        "\n",
        "odd_numbers_list = get_odd_numbers()\n",
        "\n",
        "print(\"List of odd numbers from 1 to 25:\", odd_numbers_list)\n"
      ],
      "metadata": {
        "colab": {
          "base_uri": "https://localhost:8080/"
        },
        "id": "V3h3y9QswDjV",
        "outputId": "37592cee-437d-4ac0-f088-0a67a996535c"
      },
      "execution_count": 10,
      "outputs": [
        {
          "output_type": "stream",
          "name": "stdout",
          "text": [
            "List of odd numbers from 1 to 25: [1, 3, 5, 7, 9, 11, 13, 15, 17, 19, 21, 23, 25]\n"
          ]
        }
      ]
    },
    {
      "cell_type": "markdown",
      "source": [
        "Q2. Why *args and **kwargs is used in some functions? Create a function each for *args and **kwargs\n",
        "to demonstrate their use."
      ],
      "metadata": {
        "id": "TYw117GSwiYG"
      }
    },
    {
      "cell_type": "code",
      "source": [
        "#In Python, *args and **kwargs are used in function definitions to allow a function to accept a variable number of arguments.\n",
        "\n",
        "def sum_args(*args):\n",
        "    total = 0\n",
        "    for num in args:\n",
        "        total += num\n",
        "    return total\n",
        "\n",
        "result1 = sum_args(1, 2, 3, 4, 5)\n",
        "result2 = sum_args(10, 20, 30)\n",
        "result3 = sum_args(5, 10, 15, 20, 25, 30, 35)\n",
        "\n",
        "print(\"Result 1:\", result1)\n",
        "print(\"Result 2:\", result2)"
      ],
      "metadata": {
        "colab": {
          "base_uri": "https://localhost:8080/"
        },
        "id": "rfUri4kGwhJi",
        "outputId": "cf14f050-6934-4031-ed1c-1bfc7296d718"
      },
      "execution_count": 3,
      "outputs": [
        {
          "output_type": "stream",
          "name": "stdout",
          "text": [
            "Result 1: 15\n",
            "Result 2: 60\n"
          ]
        }
      ]
    },
    {
      "cell_type": "code",
      "source": [
        "def print_kwargs(**kwargs):\n",
        "    for key, value in kwargs.items():\n",
        "        print(f\"{key}: {value}\")\n",
        "\n",
        "#calling the function with different key-value pairs\n",
        "print_kwargs(name=\"Sagar\", age=26)\n",
        "print_kwargs(country=\"Roorkee\", language=\"Hindi\", population=257254)\n"
      ],
      "metadata": {
        "id": "urSpGtfBIB2v",
        "colab": {
          "base_uri": "https://localhost:8080/"
        },
        "outputId": "90cd5c90-fa93-4941-8189-70879dbda0a4"
      },
      "execution_count": 4,
      "outputs": [
        {
          "output_type": "stream",
          "name": "stdout",
          "text": [
            "name: Sagar\n",
            "age: 26\n",
            "country: Roorkee\n",
            "language: Hindi\n",
            "population: 257254\n"
          ]
        }
      ]
    },
    {
      "cell_type": "markdown",
      "source": [
        "Q3. What is an iterator in python? Name the method used to initialise the iterator object and the method\n",
        "used for iteration. Use these methods to print the first five elements of the given list [2, 4, 6, 8, 10, 12, 14,\n",
        "16, 18, 20]."
      ],
      "metadata": {
        "id": "mT_tHTmbxuG3"
      }
    },
    {
      "cell_type": "code",
      "source": [
        "#  an iterator is an object that allows you to traverse through a sequence of elements one at a time.\n",
        "#  It implements two methods: __iter__() and __next__(), collectively known as the iterator protocol.\n",
        "\n",
        "my_list = [2, 4, 6, 8, 10, 12, 14, 16, 18, 20]\n",
        "my_iter = iter(my_list)\n",
        "\n",
        "# Using the iterator to print the first five elements\n",
        "print(\"First five elements of the list:\")\n",
        "for _ in range(5):\n",
        "    next_element = next(my_iter)\n",
        "    print(next_element)\n"
      ],
      "metadata": {
        "colab": {
          "base_uri": "https://localhost:8080/"
        },
        "id": "tG-Q4laqx1z9",
        "outputId": "21d3c926-e14e-4004-8094-2ddebebb1627"
      },
      "execution_count": 7,
      "outputs": [
        {
          "output_type": "stream",
          "name": "stdout",
          "text": [
            "First five elements of the list:\n",
            "2\n",
            "4\n",
            "6\n",
            "8\n",
            "10\n"
          ]
        }
      ]
    },
    {
      "cell_type": "markdown",
      "source": [
        "Q4. What is a generator function in python? Why yield keyword is used? Give an example of a generator\n",
        "function."
      ],
      "metadata": {
        "id": "YCseuX2vyfLQ"
      }
    },
    {
      "cell_type": "code",
      "source": [
        "# A generator function in Python is a special type of function that allows you to generate a sequence of values on-the-fly.\n",
        "\n",
        "#When a generator function is called, it returns a generator object without actually executing the function body.\n",
        "# Each time the yield statement is encountered, the function's state is frozen, and the yielded value is returned to the caller.\n",
        "\n",
        "def square_generator(n):\n",
        "    for i in range(n):\n",
        "        yield i ** 2\n",
        "\n",
        "square_gen = square_generator(5)\n",
        "\n",
        "\n",
        "for num in square_gen:\n",
        "    print(num)\n"
      ],
      "metadata": {
        "colab": {
          "base_uri": "https://localhost:8080/"
        },
        "id": "oqh8Zx-MySMI",
        "outputId": "a9c8ae59-87d7-44a0-e1fa-66fd5313a2c1"
      },
      "execution_count": 9,
      "outputs": [
        {
          "output_type": "stream",
          "name": "stdout",
          "text": [
            "0\n",
            "1\n",
            "4\n",
            "9\n",
            "16\n"
          ]
        }
      ]
    },
    {
      "cell_type": "markdown",
      "source": [
        "Q5. Create a generator function for prime numbers less than 1000. Use the next() method to print the\n",
        "first 20 prime numbers."
      ],
      "metadata": {
        "id": "Usp2auuXJUxb"
      }
    },
    {
      "cell_type": "code",
      "source": [
        "def is_prime(num):\n",
        "    if num <= 1:\n",
        "        return False\n",
        "    for i in range(2, int(num**0.5) + 1):\n",
        "        if num % i == 0:\n",
        "            return False\n",
        "    return True\n",
        "\n",
        "def prime_generator():\n",
        "    num = 2\n",
        "    while num < 1000:\n",
        "        if is_prime(num):\n",
        "            yield num\n",
        "        num += 1\n",
        "\n",
        "#creating a generator object for prime numbers\n",
        "prime_gen = prime_generator()\n",
        "\n",
        "#printing the first 20 prime numbers\n",
        "print(\"First 20 prime numbers less than 1000:\")\n",
        "for _ in range(20):\n",
        "    prime_num = next(prime_gen)\n",
        "    print(prime_num)\n"
      ],
      "metadata": {
        "colab": {
          "base_uri": "https://localhost:8080/"
        },
        "id": "qufVJVtkyuGW",
        "outputId": "b935f09f-1c8e-4c05-e844-853dc0d7d6e6"
      },
      "execution_count": 11,
      "outputs": [
        {
          "output_type": "stream",
          "name": "stdout",
          "text": [
            "First 20 prime numbers less than 1000:\n",
            "2\n",
            "3\n",
            "5\n",
            "7\n",
            "11\n",
            "13\n",
            "17\n",
            "19\n",
            "23\n",
            "29\n",
            "31\n",
            "37\n",
            "41\n",
            "43\n",
            "47\n",
            "53\n",
            "59\n",
            "61\n",
            "67\n",
            "71\n"
          ]
        }
      ]
    },
    {
      "cell_type": "markdown",
      "source": [
        "Q6. Write a python program to print the first 10 Fibonacci numbers using a while loop."
      ],
      "metadata": {
        "id": "OnobjgxAy-C4"
      }
    },
    {
      "cell_type": "code",
      "source": [
        "def fibonacci(n):\n",
        "    #initialize=ing the first two Fibonacci numbers\n",
        "    fib1, fib2 = 0, 1\n",
        "    count = 0\n",
        "\n",
        "    #if input is valid\n",
        "    if n <= 0:\n",
        "        print(\"Please enter a positive integer.\")\n",
        "        return\n",
        "    elif n == 1:\n",
        "        print(\"First Fibonacci number:\", fib1)\n",
        "        return\n",
        "    elif n == 2:\n",
        "        print(\"First two Fibonacci numbers:\", fib1, fib2)\n",
        "        return\n",
        "\n",
        "    #printing the first two Fibonacci numbers\n",
        "    print(\"First\", n, \"Fibonacci numbers:\")\n",
        "\n",
        "    #using a while loop to generate fibo numbers\n",
        "    while count < n:\n",
        "        print(fib1, end=\" \")\n",
        "        fib_sum = fib1 + fib2\n",
        "        fib1 = fib2\n",
        "        fib2 = fib_sum\n",
        "        count += 1\n",
        "\n",
        "fibonacci(10)\n"
      ],
      "metadata": {
        "colab": {
          "base_uri": "https://localhost:8080/"
        },
        "id": "H_AG3QvSydxU",
        "outputId": "f373e78c-5b68-496d-b37a-8973c64c464f"
      },
      "execution_count": 12,
      "outputs": [
        {
          "output_type": "stream",
          "name": "stdout",
          "text": [
            "First 10 Fibonacci numbers:\n",
            "0 1 1 2 3 5 8 13 21 34 "
          ]
        }
      ]
    },
    {
      "cell_type": "markdown",
      "source": [
        "Q7. Write a List Comprehension to iterate through the given string: ‘pwskills’.\n",
        "Expected output: ['p', 'w', 's', 'k', 'i', 'l', 'l', 's']"
      ],
      "metadata": {
        "id": "zcxIPn_XLXeD"
      }
    },
    {
      "cell_type": "code",
      "source": [
        "#list comprehension to iterate through the string\n",
        "string = 'pwskills'\n",
        "char_list = [char for char in string]\n",
        "print(char_list)\n"
      ],
      "metadata": {
        "colab": {
          "base_uri": "https://localhost:8080/"
        },
        "id": "9bjFkjuzLbcq",
        "outputId": "c345bdf8-06e8-43dc-be50-82414ea29c69"
      },
      "execution_count": 13,
      "outputs": [
        {
          "output_type": "stream",
          "name": "stdout",
          "text": [
            "['p', 'w', 's', 'k', 'i', 'l', 'l', 's']\n"
          ]
        }
      ]
    },
    {
      "cell_type": "markdown",
      "source": [
        "Q8. Write a python program to check whether a given number is Palindrome or not using a while loop."
      ],
      "metadata": {
        "id": "kHWV787uLm65"
      }
    },
    {
      "cell_type": "code",
      "source": [
        "def is_palindrome(number):\n",
        "    #convert the number to a string\n",
        "    num_str = str(number)\n",
        "\n",
        "    #compare the number with its reverse\n",
        "    if num_str == num_str[::-1]:\n",
        "        return True\n",
        "    else:\n",
        "        return False\n",
        "\n",
        "num = int(input(\"Enter a numbr: \"))\n",
        "\n",
        "if is_palindrome(num):\n",
        "    print(num, \"palindrome number\")\n",
        "else:\n",
        "    print(num, \" notpalindrome number\")\n"
      ],
      "metadata": {
        "colab": {
          "base_uri": "https://localhost:8080/"
        },
        "id": "ueNUqbh4L6To",
        "outputId": "8e118b3f-2af5-4dfe-8af1-1455ae12632d"
      },
      "execution_count": 15,
      "outputs": [
        {
          "output_type": "stream",
          "name": "stdout",
          "text": [
            "Enter a numbr: 123\n",
            "123  notpalindrome number\n"
          ]
        }
      ]
    },
    {
      "cell_type": "markdown",
      "source": [
        "Q9. Write a code to print odd numbers from 1 to 100 using list comprehension.\n",
        "Note: Use a list comprehension to create a list from 1 to 100 and use another List comprehension to filter\n",
        "out odd numbers."
      ],
      "metadata": {
        "id": "nHlUrHWwM2BT"
      }
    },
    {
      "cell_type": "code",
      "source": [
        "#list comprehension to create a list from 1 to 100\n",
        "numbers = [num for num in range(1, 101)]\n",
        "#another list comprehension to filter out odd numbers\n",
        "odd_numbers = [num for num in numbers if num % 2 != 0]\n",
        "\n",
        "print(\"Odd numbers from 1 to 100:\")\n",
        "print(odd_numbers)\n"
      ],
      "metadata": {
        "colab": {
          "base_uri": "https://localhost:8080/"
        },
        "id": "tyfqxi19NGBZ",
        "outputId": "0e168fb2-4e2b-4c23-de65-58adeec8199a"
      },
      "execution_count": 16,
      "outputs": [
        {
          "output_type": "stream",
          "name": "stdout",
          "text": [
            "Odd numbers from 1 to 100:\n",
            "[1, 3, 5, 7, 9, 11, 13, 15, 17, 19, 21, 23, 25, 27, 29, 31, 33, 35, 37, 39, 41, 43, 45, 47, 49, 51, 53, 55, 57, 59, 61, 63, 65, 67, 69, 71, 73, 75, 77, 79, 81, 83, 85, 87, 89, 91, 93, 95, 97, 99]\n"
          ]
        }
      ]
    }
  ]
}