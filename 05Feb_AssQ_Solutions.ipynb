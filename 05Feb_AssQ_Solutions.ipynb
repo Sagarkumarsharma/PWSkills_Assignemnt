{
  "nbformat": 4,
  "nbformat_minor": 0,
  "metadata": {
    "colab": {
      "provenance": []
    },
    "kernelspec": {
      "name": "python3",
      "display_name": "Python 3"
    },
    "language_info": {
      "name": "python"
    }
  },
  "cells": [
    {
      "cell_type": "markdown",
      "source": [
        "Q1. Explain Class and Object with respect to Object-Oriented Programming. Give a suitable example."
      ],
      "metadata": {
        "id": "zJ7F_jkNV6ao"
      }
    },
    {
      "cell_type": "code",
      "source": [
        "#ANSWER\n",
        "# In object-oriented programming (OOP), a class is a blueprint or template for creating objects.\n",
        "# It defines the properties (attributes) and behaviors (methods) that objects of that class will have. An object, on the other hand, is an instance of a class.\n",
        "# It is a concrete entity that is created based on the class definition,\n",
        "# and it has its own state (values for attributes) and behavior (methods to perform actions).\n",
        "\n",
        "class Car:\n",
        "    def __init__(self, make, model, year):\n",
        "        self.make = make\n",
        "        self.model = model\n",
        "        self.year = year\n",
        "        self.is_running = False\n",
        "\n",
        "    def start(self):\n",
        "        if not self.is_running:\n",
        "            print(f\"{self.make} {self.model} started.\")\n",
        "            self.is_running = True\n",
        "        else:\n",
        "            print(f\"{self.make} {self.model} is already running.\")\n",
        "\n",
        "    def stop(self):\n",
        "        if self.is_running:\n",
        "            print(f\"{self.make} {self.model} stopped.\")\n",
        "            self.is_running = False\n",
        "        else:\n",
        "            print(f\"{self.make} {self.model} is already stopped.\")\n",
        "\n",
        "    def accelerate(self, speed):\n",
        "        if self.is_running:\n",
        "            print(f\"{self.make} {self.model} is accelerating at {speed} km/h.\")\n",
        "        else:\n",
        "            print(f\"Please start the {self.make} {self.model} first.\")\n",
        "\n",
        "    def brake(self):\n",
        "        print(f\"{self.make} {self.model} is braking.\")\n",
        "\n",
        "#objects of the Car class\n",
        "car1 = Car(\"Toyota\", \"Corolla\", 2022)\n",
        "car2 = Car(\"Honda\", \"Civic\", 2023)\n",
        "\n",
        "car1.start()\n",
        "car1.accelerate(60)\n",
        "car1.brake()\n",
        "car1.stop()\n",
        "\n",
        "car2.start()\n",
        "car2.accelerate(80)\n",
        "car2.brake()\n",
        "car2.stop()\n",
        "\n"
      ],
      "metadata": {
        "colab": {
          "base_uri": "https://localhost:8080/"
        },
        "id": "qufVJVtkyuGW",
        "outputId": "d1dfbe76-f6d8-4a91-bec4-2331fbe7ba62"
      },
      "execution_count": 32,
      "outputs": [
        {
          "output_type": "stream",
          "name": "stdout",
          "text": [
            "Toyota Corolla started.\n",
            "Toyota Corolla is accelerating at 60 km/h.\n",
            "Toyota Corolla is braking.\n",
            "Toyota Corolla stopped.\n",
            "Honda Civic started.\n",
            "Honda Civic is accelerating at 80 km/h.\n",
            "Honda Civic is braking.\n",
            "Honda Civic stopped.\n"
          ]
        }
      ]
    },
    {
      "cell_type": "markdown",
      "source": [
        "Q2. Name the four pillars of OOPs."
      ],
      "metadata": {
        "id": "GU1zl-rBXuUf"
      }
    },
    {
      "cell_type": "code",
      "source": [
        "#Encapsulation :- It hides the internal state of an object from the outside world and only exposes the necessary functionalities through methods.\n",
        "class BankAccount:\n",
        "    def __init__(self, account_number, balance):\n",
        "        self.account_number = account_number\n",
        "        self.balance = balance\n",
        "\n",
        "    def deposit(self, amount):\n",
        "        self.balance += amount\n",
        "        print(f\"Deposited {amount}. New balance: {self.balance}\")\n",
        "\n",
        "    def withdraw(self, amount):\n",
        "        if amount <= self.balance:\n",
        "            self.balance -= amount\n",
        "            print(f\"Withdrew {amount}. New balance: {self.balance}\")\n",
        "        else:\n",
        "            print(\"Insufficient funds\")\n",
        "\n",
        "#instance of the BankAccount class\n",
        "account1 = BankAccount(\"12345\", 1000)\n",
        "\n",
        "#ccess attributes and call methods\n",
        "print(account1.account_number)  # Accessing attribute\n",
        "account1.deposit(500)  # Calling deposit method\n",
        "account1.withdraw(200)  # Calling withdraw method\n"
      ],
      "metadata": {
        "colab": {
          "base_uri": "https://localhost:8080/"
        },
        "id": "zR1-Ia2sXy5J",
        "outputId": "1d0c6ded-4a2c-41cd-f665-652a2c9dd7fc"
      },
      "execution_count": 34,
      "outputs": [
        {
          "output_type": "stream",
          "name": "stdout",
          "text": [
            "12345\n",
            "Deposited 500. New balance: 1500\n",
            "Withdrew 200. New balance: 1300\n"
          ]
        }
      ]
    },
    {
      "cell_type": "code",
      "source": [
        "#Inheritence :- The subclass can then extend or modify the behavior of the superclass\n",
        "class Animal:\n",
        "    def __init__(self, species):\n",
        "        self.species = species\n",
        "\n",
        "    def sound(self):\n",
        "        pass\n",
        "\n",
        "class Dog(Animal):\n",
        "    def sound(self):\n",
        "        return \"Woof!\"\n",
        "\n",
        "class Cat(Animal):\n",
        "    def sound(self):\n",
        "        return \"Meow!\"\n",
        "\n",
        "#instances of Dog and Cat\n",
        "dog = Dog(\"Canine\")\n",
        "cat = Cat(\"Feline\")\n",
        "\n",
        "#call the sound method for each\n",
        "print(dog.species, \"makes\", dog.sound())\n",
        "print(cat.species, \"makes\", cat.sound())\n"
      ],
      "metadata": {
        "colab": {
          "base_uri": "https://localhost:8080/"
        },
        "id": "VxsFX78XZEIM",
        "outputId": "eb183a10-2130-4d34-d9fe-3e045fecb1f8"
      },
      "execution_count": 36,
      "outputs": [
        {
          "output_type": "stream",
          "name": "stdout",
          "text": [
            "Canine makes Woof!\n",
            "Feline makes Meow!\n"
          ]
        }
      ]
    },
    {
      "cell_type": "code",
      "source": [
        "\n",
        "#Abstraction :- Abstraction is the process of hiding the complex implementation details and showing only the essential features of an object.\n",
        "from abc import ABC, abstractmethod\n",
        "\n",
        "class Shape(ABC):\n",
        "    @abstractmethod\n",
        "    def area(self):\n",
        "        pass\n",
        "\n",
        "class Circle(Shape):\n",
        "    def __init__(self, radius):\n",
        "        self.radius = radius\n",
        "\n",
        "    def area(self):\n",
        "        return 3.14 * self.radius**2\n",
        "\n",
        "class Rectangle(Shape):\n",
        "    def __init__(self, length, width):\n",
        "        self.length = length\n",
        "        self.width = width\n",
        "\n",
        "    def area(self):\n",
        "        return self.length * self.width\n",
        "\n",
        "\n",
        "circle = Circle(5)\n",
        "rectangle = Rectangle(4, 6)\n",
        "\n",
        "print(\"Area of the Circle:\", circle.area())\n",
        "print(\"Area of the Rectangle:\", rectangle.area())\n",
        "\n"
      ],
      "metadata": {
        "colab": {
          "base_uri": "https://localhost:8080/"
        },
        "id": "FYRIME5gZaTg",
        "outputId": "494a27e0-f536-4d8a-e4fd-9fc5bf3f72a0"
      },
      "execution_count": 37,
      "outputs": [
        {
          "output_type": "stream",
          "name": "stdout",
          "text": [
            "Area of the Circle: 78.5\n",
            "Area of the Rectangle: 24\n"
          ]
        }
      ]
    },
    {
      "cell_type": "code",
      "source": [
        "#Polymorphism := Polymorphism means the ability of a single function or method to operate on different types of objects\n",
        "class Shape:\n",
        "    def area(self):\n",
        "        pass\n",
        "\n",
        "class Circle(Shape):\n",
        "    def __init__(self, radius):\n",
        "        self.radius = radius\n",
        "\n",
        "    def area(self):\n",
        "        return 3.14 * self.radius**2\n",
        "\n",
        "class Rectangle(Shape):\n",
        "    def __init__(self, length, width):\n",
        "        self.length = length\n",
        "        self.width = width\n",
        "\n",
        "    def area(self):\n",
        "        return self.length * self.width\n",
        "\n",
        "circle = Circle(5)\n",
        "rectangle = Rectangle(4, 6)\n",
        "\n",
        "print(\"Area of the Circle:\", circle.area())\n",
        "print(\"Area of the Rectangle:\", rectangle.area())"
      ],
      "metadata": {
        "colab": {
          "base_uri": "https://localhost:8080/"
        },
        "id": "Mx4QkmVoZlkf",
        "outputId": "12da9177-f2ac-40f0-a25b-040804910ec3"
      },
      "execution_count": 38,
      "outputs": [
        {
          "output_type": "stream",
          "name": "stdout",
          "text": [
            "Area of the Circle: 78.5\n",
            "Area of the Rectangle: 24\n"
          ]
        }
      ]
    },
    {
      "cell_type": "markdown",
      "source": [
        "Q3. Explain why the __init__() function is used. Give a suitable example."
      ],
      "metadata": {
        "id": "IY6mbFclZ6Dw"
      }
    },
    {
      "cell_type": "code",
      "source": [
        "# The __init__() function in Python is a special method used for initializing newly created objects.\n",
        "# It is also known as a constructor in object-oriented programming (OOP).\n",
        "# When a new instance of a class is created, the __init__() method is automatically called to initialize the attributes of the object.\n",
        "\n",
        "class Student:\n",
        "    def __init__(self, name, age):\n",
        "        self.name = name\n",
        "        self.age = age\n",
        "\n",
        "    def display_info(self):\n",
        "        print(f\"Name: {self.name}, Age: {self.age}\")\n",
        "\n",
        "\n",
        "student1 = Student(\"Shudhanshu Sir\", 20)\n",
        "student2 = Student(\"Sagar\", 22)\n",
        "\n",
        "student1.display_info()\n",
        "student2.display_info()\n"
      ],
      "metadata": {
        "colab": {
          "base_uri": "https://localhost:8080/"
        },
        "id": "sNpqF7KmZ6_Q",
        "outputId": "f13afcda-79de-4782-a63f-0674d31a6288"
      },
      "execution_count": 39,
      "outputs": [
        {
          "output_type": "stream",
          "name": "stdout",
          "text": [
            "Name: Shudhanshu Sir, Age: 20\n",
            "Name: Sagar, Age: 22\n"
          ]
        }
      ]
    },
    {
      "cell_type": "markdown",
      "source": [
        "Q4. Why self is used in OOPs?\n",
        "\n",
        "Answer : - self is a special parameter that refers to the current instance of the class.\n",
        "\n",
        " It is used within class methods to refer to the instance itself, allowing the methods to access and modify the attributes of that instance."
      ],
      "metadata": {
        "id": "humQarnwbCH-"
      }
    },
    {
      "cell_type": "markdown",
      "source": [
        "Q5. What is inheritance? Give an example for each type of inheritance."
      ],
      "metadata": {
        "id": "OHoTlpS0bNq2"
      }
    },
    {
      "cell_type": "code",
      "source": [
        "'''\n",
        "Single Inheritance:-\n",
        "Single inheritance occurs when a subclass inherits from only one superclass.\n",
        "It forms a chain of classes where each class inherits from the class immediately above it in the hierarchy.\n",
        " '''\n",
        "\n",
        "class Animal:\n",
        "    def sound(self):\n",
        "        pass\n",
        "\n",
        "class Dog(Animal):\n",
        "    def sound(self):\n",
        "        return \"Woof!\"\n",
        "\n",
        "class Cat(Animal):\n",
        "    def sound(self):\n",
        "        return \"Meow!\"\n",
        "\n",
        "dog = Dog()\n",
        "cat = Cat()\n",
        "\n",
        "\n",
        "print(dog.sound())\n",
        "print(cat.sound())\n",
        "\n"
      ],
      "metadata": {
        "colab": {
          "base_uri": "https://localhost:8080/"
        },
        "id": "ckaMIx4KbOjB",
        "outputId": "ef627a3f-ba29-4c8f-ce65-3ffc00c128ed"
      },
      "execution_count": 48,
      "outputs": [
        {
          "output_type": "stream",
          "name": "stdout",
          "text": [
            "Woof!\n",
            "Meow!\n"
          ]
        }
      ]
    },
    {
      "cell_type": "code",
      "source": [
        "'''\n",
        "Multiple Inheritance:-\n",
        "Multiple inheritance occurs when a subclass inherits from more than one superclass.\n",
        "'''\n",
        "\n",
        "class A:\n",
        "    def method_a(self):\n",
        "        return \"Method A\"\n",
        "\n",
        "class B:\n",
        "    def method_b(self):\n",
        "        return \"Method B\"\n",
        "\n",
        "class C(A, B):\n",
        "    def method_c(self):\n",
        "        return \"Method C\"\n",
        "\n",
        "obj = C()\n",
        "\n",
        "#calling methods from both A and B\n",
        "print(obj.method_a())\n",
        "print(obj.method_b())\n",
        "print(obj.method_c())\n"
      ],
      "metadata": {
        "colab": {
          "base_uri": "https://localhost:8080/"
        },
        "id": "YdU-NuR8bzOW",
        "outputId": "f2e93f16-61f7-45e9-e394-2855902a40d4"
      },
      "execution_count": 49,
      "outputs": [
        {
          "output_type": "stream",
          "name": "stdout",
          "text": [
            "Method A\n",
            "Method B\n",
            "Method C\n"
          ]
        }
      ]
    },
    {
      "cell_type": "code",
      "source": [
        "'''\n",
        "Multilevel Inheritance:-\n",
        "Multilevel inheritance occurs when a subclass inherits from another subclass.\n",
        "'''\n",
        "\n",
        "class A:\n",
        "    def method_a(self):\n",
        "        return \"Method A\"\n",
        "\n",
        "class B(A):\n",
        "    def method_b(self):\n",
        "        return \"Method B\"\n",
        "\n",
        "class C(B):\n",
        "    def method_c(self):\n",
        "        return \"Method C\"\n",
        "\n",
        "\n",
        "obj = C()\n",
        "\n",
        "#xalling methods from A, B, and C\n",
        "print(obj.method_a())\n",
        "print(obj.method_b())\n",
        "print(obj.method_c())\n"
      ],
      "metadata": {
        "colab": {
          "base_uri": "https://localhost:8080/"
        },
        "id": "_8sbncw_dV_5",
        "outputId": "0c33768d-0df8-460e-d3de-18ee922534f6"
      },
      "execution_count": 50,
      "outputs": [
        {
          "output_type": "stream",
          "name": "stdout",
          "text": [
            "Method A\n",
            "Method B\n",
            "Method C\n"
          ]
        }
      ]
    },
    {
      "cell_type": "code",
      "source": [
        "'''\n",
        "Hierarchical Inheritance:-\n",
        "Hierarchical inheritance occurs when more than one subclass inherits from the same superclass.\n",
        "It creates a hierarchy of classes where multiple classes share the same parent class.\n",
        "'''\n",
        "class Animal:\n",
        "    def sound(self):\n",
        "        pass\n",
        "\n",
        "class Dog(Animal):\n",
        "    def sound(self):\n",
        "        return \"Woof!\"\n",
        "\n",
        "class Cat(Animal):\n",
        "    def sound(self):\n",
        "        return \"Meow!\"\n",
        "\n",
        "\n",
        "dog = Dog()\n",
        "cat = Cat()\n",
        "\n",
        "#calling the sound method for each\n",
        "print(dog.sound())\n",
        "print(cat.sound())\n",
        "\n"
      ],
      "metadata": {
        "colab": {
          "base_uri": "https://localhost:8080/"
        },
        "id": "2Y29h-OVdryn",
        "outputId": "61f476f1-cb4c-40c4-c1fe-08da064ffcef"
      },
      "execution_count": 51,
      "outputs": [
        {
          "output_type": "stream",
          "name": "stdout",
          "text": [
            "Woof!\n",
            "Meow!\n"
          ]
        }
      ]
    }
  ]
}