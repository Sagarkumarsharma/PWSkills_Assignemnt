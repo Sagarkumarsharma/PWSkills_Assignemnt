{
  "nbformat": 4,
  "nbformat_minor": 0,
  "metadata": {
    "colab": {
      "provenance": []
    },
    "kernelspec": {
      "name": "python3",
      "display_name": "Python 3"
    },
    "language_info": {
      "name": "python"
    }
  },
  "cells": [
    {
      "cell_type": "markdown",
      "source": [
        "Q1. Explain with an example each when to use a for loop and a while loop."
      ],
      "metadata": {
        "id": "Y-v2lZDEwHJA"
      }
    },
    {
      "cell_type": "code",
      "source": [
        "fruits = [\"apple\", \"banana\", \"cherry\"]\n",
        "for fruit in fruits:\n",
        "    print(fruit)\n"
      ],
      "metadata": {
        "colab": {
          "base_uri": "https://localhost:8080/"
        },
        "id": "V3h3y9QswDjV",
        "outputId": "0fe69521-801e-4f39-9318-ef4866213ef7"
      },
      "execution_count": 2,
      "outputs": [
        {
          "output_type": "stream",
          "name": "stdout",
          "text": [
            "apple\n",
            "banana\n",
            "cherry\n"
          ]
        }
      ]
    },
    {
      "cell_type": "code",
      "source": [
        "count = 5\n",
        "while count > 0:\n",
        "    print(count)\n",
        "    count -= 1\n"
      ],
      "metadata": {
        "colab": {
          "base_uri": "https://localhost:8080/"
        },
        "id": "s7iZivPowc5d",
        "outputId": "2771cf80-27d1-4538-acfd-d9bbc57f6dac"
      },
      "execution_count": 3,
      "outputs": [
        {
          "output_type": "stream",
          "name": "stdout",
          "text": [
            "5\n",
            "4\n",
            "3\n",
            "2\n",
            "1\n"
          ]
        }
      ]
    },
    {
      "cell_type": "markdown",
      "source": [
        "Q2. Write a python program to print the sum and product of the first 10 natural numbers using for\n",
        "and while loop."
      ],
      "metadata": {
        "id": "TYw117GSwiYG"
      }
    },
    {
      "cell_type": "code",
      "source": [
        "#using for loop\n",
        "sum_numbers = 0\n",
        "product_numbers = 1\n",
        "\n",
        "for i in range(1, 11):\n",
        "    sum_numbers += i\n",
        "    product_numbers *= i\n",
        "\n",
        "print(\"Using for loop:\")\n",
        "print(\"Sum of first 10 natural numbers:\", sum_numbers)\n",
        "print(\"Product of first 10 natural numbers:\", product_numbers)\n"
      ],
      "metadata": {
        "colab": {
          "base_uri": "https://localhost:8080/"
        },
        "id": "rfUri4kGwhJi",
        "outputId": "46074171-c358-4014-fdda-a96022797039"
      },
      "execution_count": 4,
      "outputs": [
        {
          "output_type": "stream",
          "name": "stdout",
          "text": [
            "Using for loop:\n",
            "Sum of first 10 natural numbers: 55\n",
            "Product of first 10 natural numbers: 3628800\n"
          ]
        }
      ]
    },
    {
      "cell_type": "code",
      "source": [
        "#using a while loop to calculate the sum and product of first 10 natural numbers\n",
        "sum_numbers = 0\n",
        "product_numbers = 1\n",
        "count = 1\n",
        "\n",
        "while count <= 10:\n",
        "    sum_numbers += count\n",
        "    product_numbers *= count\n",
        "    count += 1\n",
        "\n",
        "print(\"Using while loop:\")\n",
        "print(\"Sum of first 10 natural numbers:\", sum_numbers)\n",
        "print(\"Product of first 10 natural numbers:\", product_numbers)"
      ],
      "metadata": {
        "id": "urSpGtfBIB2v",
        "colab": {
          "base_uri": "https://localhost:8080/"
        },
        "outputId": "4e50021d-8e4b-429d-8cd6-37ff52548562"
      },
      "execution_count": 5,
      "outputs": [
        {
          "output_type": "stream",
          "name": "stdout",
          "text": [
            "Using while loop:\n",
            "Sum of first 10 natural numbers: 55\n",
            "Product of first 10 natural numbers: 3628800\n"
          ]
        }
      ]
    },
    {
      "cell_type": "markdown",
      "source": [
        "Q3. Create a python program to compute the electricity bill for a household.\n",
        "The per-unit charges in rupees are as follows: For the first 100 units, the user will be charged Rs. 4.5 per\n",
        "unit, for the next 100 units, the user will be charged Rs. 6 per unit, and for the next 100 units, the user will\n",
        "be charged Rs. 10 per unit, After 300 units and above the user will be charged Rs. 20 per unit.\n",
        "You are required to take the units of electricity consumed in a month from the user as input.\n",
        "Your program must pass this test case: when the unit of electricity consumed by the user in a month is\n",
        "310, the total electricity bill should be 2250."
      ],
      "metadata": {
        "id": "mT_tHTmbxuG3"
      }
    },
    {
      "cell_type": "code",
      "source": [
        "def calculate_electricity_bill(units):\n",
        "    total_bill = 0\n",
        "\n",
        "    if units <= 100:\n",
        "        total_bill = units * 4.5\n",
        "    elif units <= 200:\n",
        "        total_bill = 100 * 4.5 + (units - 100) * 6\n",
        "    elif units <= 300:\n",
        "        total_bill = 100 * 4.5 + 100 * 6 + (units - 200) * 10\n",
        "    else:\n",
        "        total_bill = 100 * 4.5 + 100 * 6 + 100 * 10 + (units - 300) * 20\n",
        "\n",
        "    return total_bill\n",
        "\n",
        "units_consumed = int(input(\"Enter the units of electricity consumed in a month: \"))\n",
        "electricity_bill = calculate_electricity_bill(units_consumed)\n",
        "print(\"Total electricity bill: Rs.\", electricity_bill)"
      ],
      "metadata": {
        "colab": {
          "base_uri": "https://localhost:8080/"
        },
        "id": "tG-Q4laqx1z9",
        "outputId": "3963e88b-9966-4626-94df-1d2416a5ff85"
      },
      "execution_count": 6,
      "outputs": [
        {
          "output_type": "stream",
          "name": "stdout",
          "text": [
            "Enter the units of electricity consumed in a month: 310\n",
            "Total electricity bill: Rs. 2250.0\n"
          ]
        }
      ]
    },
    {
      "cell_type": "markdown",
      "source": [
        "Q4. Create a list of numbers from 1 to 100. Use for loop and while loop to calculate the cube of each\n",
        "number and if the cube of that number is divisible by 4 or 5 then append that number in a list and print\n",
        "that list."
      ],
      "metadata": {
        "id": "YCseuX2vyfLQ"
      }
    },
    {
      "cell_type": "code",
      "source": [
        "#using for loop\n",
        "cubes_divisible = []\n",
        "\n",
        "for num in range(1, 101):\n",
        "    cube = num ** 3\n",
        "    if cube % 4 == 0 or cube % 5 == 0:\n",
        "        cubes_divisible.append(num)\n",
        "\n",
        "print(\"Using for loop:\")\n",
        "print(\"Numbers whose cube is divisible by 4 or 5:\", cubes_divisible)\n"
      ],
      "metadata": {
        "colab": {
          "base_uri": "https://localhost:8080/"
        },
        "id": "oqh8Zx-MySMI",
        "outputId": "25506a49-06b3-4dde-e6a2-1437f8b7bb90"
      },
      "execution_count": 9,
      "outputs": [
        {
          "output_type": "stream",
          "name": "stdout",
          "text": [
            "Using for loop:\n",
            "Numbers whose cube is divisible by 4 or 5: [2, 4, 5, 6, 8, 10, 12, 14, 15, 16, 18, 20, 22, 24, 25, 26, 28, 30, 32, 34, 35, 36, 38, 40, 42, 44, 45, 46, 48, 50, 52, 54, 55, 56, 58, 60, 62, 64, 65, 66, 68, 70, 72, 74, 75, 76, 78, 80, 82, 84, 85, 86, 88, 90, 92, 94, 95, 96, 98, 100]\n"
          ]
        }
      ]
    },
    {
      "cell_type": "code",
      "source": [
        "\n",
        "cubes_divisible = []\n",
        "num = 1\n",
        "\n",
        "while num <= 100:\n",
        "    cube = num ** 3\n",
        "    if cube % 4 == 0 or cube % 5 == 0:\n",
        "        cubes_divisible.append(num)\n",
        "    num += 1\n",
        "\n",
        "print(\"Using while loop:\")\n",
        "print(\"Numbers whose cube is divisible by 4 or 5:\", cubes_divisible)\n"
      ],
      "metadata": {
        "colab": {
          "base_uri": "https://localhost:8080/"
        },
        "id": "qufVJVtkyuGW",
        "outputId": "1ff015a0-e058-44b5-ab1e-c3a50c77891e"
      },
      "execution_count": 10,
      "outputs": [
        {
          "output_type": "stream",
          "name": "stdout",
          "text": [
            "Using while loop:\n",
            "Numbers whose cube is divisible by 4 or 5: [2, 4, 5, 6, 8, 10, 12, 14, 15, 16, 18, 20, 22, 24, 25, 26, 28, 30, 32, 34, 35, 36, 38, 40, 42, 44, 45, 46, 48, 50, 52, 54, 55, 56, 58, 60, 62, 64, 65, 66, 68, 70, 72, 74, 75, 76, 78, 80, 82, 84, 85, 86, 88, 90, 92, 94, 95, 96, 98, 100]\n"
          ]
        }
      ]
    },
    {
      "cell_type": "markdown",
      "source": [
        "Q5. Write a program to filter count vowels in the below-given string.\n",
        "string = \"I want to become a data scientist"
      ],
      "metadata": {
        "id": "OnobjgxAy-C4"
      }
    },
    {
      "cell_type": "code",
      "source": [
        "def count_vowels(input_string):\n",
        "    vowels = \"aeiouAEIOU\"\n",
        "    vowel_count = 0\n",
        "\n",
        "    for char in input_string:\n",
        "        if char in vowels:\n",
        "            vowel_count += 1\n",
        "\n",
        "    return vowel_count\n",
        "\n",
        "\n",
        "string = \"I want to become a data scientist\"\n",
        "\n",
        "vowel_count = count_vowels(string)\n",
        "\n",
        "print(\"Number of vowels in the string:\", vowel_count)\n"
      ],
      "metadata": {
        "colab": {
          "base_uri": "https://localhost:8080/"
        },
        "id": "H_AG3QvSydxU",
        "outputId": "2265fbbc-d197-4b87-e996-5ddccbfd85a1"
      },
      "execution_count": 11,
      "outputs": [
        {
          "output_type": "stream",
          "name": "stdout",
          "text": [
            "Number of vowels in the string: 12\n"
          ]
        }
      ]
    }
  ]
}