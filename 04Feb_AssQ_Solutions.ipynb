{
  "nbformat": 4,
  "nbformat_minor": 0,
  "metadata": {
    "colab": {
      "provenance": []
    },
    "kernelspec": {
      "name": "python3",
      "display_name": "Python 3"
    },
    "language_info": {
      "name": "python"
    }
  },
  "cells": [
    {
      "cell_type": "markdown",
      "source": [
        "Q1. Create a python program to sort the given list of tuples based on integer value using a\n",
        "lambda function.\n",
        "\n",
        "[('Sachin Tendulkar', 34357), ('Ricky Ponting', 27483), ('Jack Kallis', 25534), ('Virat Kohli', 24936)]"
      ],
      "metadata": {
        "id": "Y-v2lZDEwHJA"
      }
    },
    {
      "cell_type": "code",
      "source": [
        "#lsit of tuples\n",
        "tuple_list = [('Sachin Tendulkar', 34357), ('Ricky Ponting', 27483), ('Jack Kallis', 25534), ('Virat Kohli', 24936)]\n",
        "\n",
        "#sorting the list of tuplesusing lambda function\n",
        "sorted_list = sorted(tuple_list, key=lambda x: x[0])\n",
        "\n",
        "print(\"Sorted list of tuples based on integer value:\")\n",
        "print(sorted_list)\n"
      ],
      "metadata": {
        "colab": {
          "base_uri": "https://localhost:8080/"
        },
        "id": "V3h3y9QswDjV",
        "outputId": "a56927d0-4d5e-4475-9c57-b5178a1c9855"
      },
      "execution_count": 26,
      "outputs": [
        {
          "output_type": "stream",
          "name": "stdout",
          "text": [
            "Sorted list of tuples based on integer value:\n",
            "[('Jack Kallis', 25534), ('Ricky Ponting', 27483), ('Sachin Tendulkar', 34357), ('Virat Kohli', 24936)]\n"
          ]
        }
      ]
    },
    {
      "cell_type": "markdown",
      "source": [
        "Q2. Write a Python Program to find the squares of all the numbers in the given list of integers using\n",
        "lambda and map functions.\n",
        "\n",
        "[1, 2, 3, 4, 5, 6, 7, 8, 9, 10]"
      ],
      "metadata": {
        "id": "TYw117GSwiYG"
      }
    },
    {
      "cell_type": "code",
      "source": [
        "numbers = [1, 2, 3, 4, 5, 6, 7, 8, 9, 10]\n",
        "\n",
        "#map() with lambda function to find squares\n",
        "squared_numbers = list(map(lambda x: x**2, numbers))\n",
        "print(\"squares of the numbers:\")\n",
        "print(squared_numbers)\n"
      ],
      "metadata": {
        "colab": {
          "base_uri": "https://localhost:8080/"
        },
        "id": "rfUri4kGwhJi",
        "outputId": "69cebb50-ae09-45c7-f440-f58da72866f6"
      },
      "execution_count": 27,
      "outputs": [
        {
          "output_type": "stream",
          "name": "stdout",
          "text": [
            "squares of the numbers:\n",
            "[1, 4, 9, 16, 25, 36, 49, 64, 81, 100]\n"
          ]
        }
      ]
    },
    {
      "cell_type": "markdown",
      "source": [
        "Q3. Write a python program to convert the given list of integers into a tuple of strings. Use map and\n",
        "lambda functions\n",
        "\n",
        "Given String: [1, 2, 3, 4, 5, 6, 7, 8, 9, 10]\n",
        "\n",
        "Expected output: ('1', '2', '3', '4', '5', '6', '7', '8', '9', '10')"
      ],
      "metadata": {
        "id": "RiSESSJaRJYR"
      }
    },
    {
      "cell_type": "code",
      "source": [
        "numbers = [1, 2, 3, 4, 5, 6, 7, 8, 9, 10]\n",
        "\n",
        "#map() with lambda function to convert integers to strings\n",
        "string_tuple = tuple(map(lambda x: str(x), numbers))\n",
        "\n",
        "\n",
        "print(\"tuple of strings:\")\n",
        "print(string_tuple)\n"
      ],
      "metadata": {
        "id": "urSpGtfBIB2v",
        "colab": {
          "base_uri": "https://localhost:8080/"
        },
        "outputId": "04e835e4-5abc-435d-fb15-3f2d4d22bb0a"
      },
      "execution_count": 28,
      "outputs": [
        {
          "output_type": "stream",
          "name": "stdout",
          "text": [
            "tuple of strings:\n",
            "('1', '2', '3', '4', '5', '6', '7', '8', '9', '10')\n"
          ]
        }
      ]
    },
    {
      "cell_type": "markdown",
      "source": [
        "Q4. Write a python program using reduce function to compute the product of a list containing numbers\n",
        "from 1 to 25."
      ],
      "metadata": {
        "id": "mT_tHTmbxuG3"
      }
    },
    {
      "cell_type": "code",
      "source": [
        "numbers = list(range(1, 26))\n",
        "product = 1\n",
        "\n",
        "#mltiply each number with the product\n",
        "for num in numbers:\n",
        "    product *= num\n",
        "\n",
        "print(\"poduct of numbers from 1 to 25:\", product)\n"
      ],
      "metadata": {
        "colab": {
          "base_uri": "https://localhost:8080/"
        },
        "id": "tG-Q4laqx1z9",
        "outputId": "3cccaa68-04a3-4ce0-ef71-bd8c9d2ecff3"
      },
      "execution_count": 29,
      "outputs": [
        {
          "output_type": "stream",
          "name": "stdout",
          "text": [
            "poduct of numbers from 1 to 25: 15511210043330985984000000\n"
          ]
        }
      ]
    },
    {
      "cell_type": "markdown",
      "source": [
        "Q5. Write a python program to filter the numbers in a given list that are divisible by 2 and 3 using the\n",
        "filter function.\n",
        "\n",
        "[2, 3, 6, 9, 27, 60, 90, 120, 55, 46]"
      ],
      "metadata": {
        "id": "YCseuX2vyfLQ"
      }
    },
    {
      "cell_type": "code",
      "source": [
        "numbers = [2, 3, 6, 9, 27, 60, 90, 120, 55, 46]\n",
        "\n",
        "#filter() with lambda function to filter numbers divisible by 2 and 3\n",
        "filtered_numbers = list(filter(lambda x: (x % 2 == 0) and (x % 3 == 0), numbers))\n",
        "\n",
        "print(\"numbers divisible by 2 and 3:\")\n",
        "print(filtered_numbers)\n"
      ],
      "metadata": {
        "colab": {
          "base_uri": "https://localhost:8080/"
        },
        "id": "oqh8Zx-MySMI",
        "outputId": "fe1dff28-0e0e-4dd3-ec1a-a8b4712c27b1"
      },
      "execution_count": 30,
      "outputs": [
        {
          "output_type": "stream",
          "name": "stdout",
          "text": [
            "numbers divisible by 2 and 3:\n",
            "[6, 60, 90, 120]\n"
          ]
        }
      ]
    },
    {
      "cell_type": "markdown",
      "source": [
        "Q6. Write a python program to find palindromes in the given list of strings using lambda and filter\n",
        "function.\n",
        "\n",
        "['python', 'php', 'aba', 'radar', 'level']"
      ],
      "metadata": {
        "id": "Usp2auuXJUxb"
      }
    },
    {
      "cell_type": "code",
      "source": [
        "strings = ['python', 'php', 'aba', 'radar', 'level']\n",
        "\n",
        "#filter() with lambda function to filter palindromes\n",
        "palindromes = list(filter(lambda x: x == x[::-1], strings))\n",
        "\n",
        "print(\"palindromes in the list:\")\n",
        "print(palindromes)\n"
      ],
      "metadata": {
        "colab": {
          "base_uri": "https://localhost:8080/"
        },
        "id": "qufVJVtkyuGW",
        "outputId": "3f4538c1-1d60-4e90-e133-a989d0919547"
      },
      "execution_count": 31,
      "outputs": [
        {
          "output_type": "stream",
          "name": "stdout",
          "text": [
            "palindromes in the list:\n",
            "['php', 'aba', 'radar', 'level']\n"
          ]
        }
      ]
    }
  ]
}